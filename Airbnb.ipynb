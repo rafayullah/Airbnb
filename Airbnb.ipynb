{
 "cells": [
  {
   "cell_type": "markdown",
   "metadata": {},
   "source": [
    "# Business Understanding"
   ]
  },
  {
   "cell_type": "markdown",
   "metadata": {},
   "source": [
    "Airbnb, Inc. is an American vacation rental online marketplace company founded in 2008. It maintains and hosts a marketplace, accessible to consumers on its website or via an app.\n",
    "\n",
    "Airbnb does not own any of the listed properties; instead, it profits by receiving commission from each booking.\n",
    "\n",
    "The company has attracted criticism for increasing rent prices in cities where it operates. In response, price prediction models, like the one we are going to build here, will help the consumers and company itself to generate alarms if a listing is being made with unjust price."
   ]
  },
  {
   "cell_type": "markdown",
   "metadata": {},
   "source": [
    "#### Assiciated Resources:"
   ]
  },
  {
   "cell_type": "markdown",
   "metadata": {},
   "source": [
    "Medium Article: https://rafayullah.medium.com/airbnb-data-exploration-analysis-and-feature-engineering-edbb47bf115\n",
    "\n",
    "GitHub Repository: https://github.com/rafayullah/Airbnb\n",
    "\n",
    "Inside Airbnb: http://insideairbnb.com/get-the-data.html"
   ]
  },
  {
   "cell_type": "markdown",
   "metadata": {},
   "source": [
    "# Data Understanding"
   ]
  },
  {
   "cell_type": "code",
   "execution_count": 1,
   "metadata": {},
   "outputs": [],
   "source": [
    "import pandas as pd\n",
    "import json\n",
    "import seaborn as sns\n",
    "from datetime import datetime\n",
    "import spacy\n",
    "from spacytextblob.spacytextblob import SpacyTextBlob\n",
    "\n",
    "import warnings\n",
    "warnings.filterwarnings('ignore')\n",
    "pd.set_option('max_columns',500)\n",
    "pd.set_option('max_rows',500)"
   ]
  },
  {
   "cell_type": "code",
   "execution_count": 2,
   "metadata": {},
   "outputs": [],
   "source": [
    "class city:\n",
    "    def __init__(self,name):\n",
    "        '''\n",
    "        INPUT:\n",
    "        name - the name of city\n",
    "\n",
    "        Takes the name of city as an input and initialises the variables with relevant dataframes.\n",
    "        The data must be present in the ./Data subfolder.\n",
    "        '''\n",
    "        name = './Data/' + name\n",
    "        self.listings = pd.read_csv(name+'/listings.csv')\n",
    "        self.calendar = pd.read_csv(name+'/calendar.csv')\n",
    "        self.reviews = pd.read_csv(name+'/reviews.csv')\n",
    "        \n",
    "\n",
    "class operations:\n",
    "    nlp = spacy.load('en_core_web_lg')\n",
    "    nlp.add_pipe( SpacyTextBlob() )\n",
    "    \n",
    "    def normalize(self,df, cols):\n",
    "        '''\n",
    "        INPUT:\n",
    "        df - pandas pd.DataFrame containg data to normalize\n",
    "        cols - python list of string containing column names to perform normalization on\n",
    "        \n",
    "        OUTPUT:\n",
    "        df - dataframe with normalized columns\n",
    "        \n",
    "        The function takes dataframe and a list of columns as an input.\n",
    "        After performing normalization, it returns the normalized dataframe\n",
    "        '''\n",
    "        df[cols] = df[cols].replace('$', '', regex=True)\n",
    "        df[cols] = (df[cols] - df[cols].min()) / (df[cols].max() - df[cols].min())\n",
    "        return df\n",
    "    \n",
    "    def remove_outliers(self,df,col):\n",
    "        '''\n",
    "        INPUT:\n",
    "        df - pandas pd.DataFrame from which the oultliers needs to be removed\n",
    "        col - a python string having the value of column name\n",
    "        \n",
    "        OUTPUT:\n",
    "        filtered_df - a pandas pd.DataFrame without outliers\n",
    "        \n",
    "        The function removes the records having outliers specicified in the input column, against every room_type\n",
    "        '''\n",
    "        filtered_df = pd.DataFrame()\n",
    "        room_types = df.groupby('room_type')\n",
    "        for room_type, group in room_types:\n",
    "            temp_df = group[(group[col] < group[col].quantile(0.999))&\n",
    "                            (group[col] > group[col].quantile(0.001))]\n",
    "            filtered_df = pd.concat([filtered_df,temp_df])\n",
    "        return filtered_df\n",
    "\n",
    "    \n",
    "    def calculate_days(self,row):\n",
    "        '''\n",
    "        INPUT:\n",
    "        row - pandas pd.Series with two date columns in format '%Y-%m-%d'\n",
    "        \n",
    "        OUTPUT:\n",
    "        int - returns the differece between two datestamps in days as an integer\n",
    "        \n",
    "        The function takes a series having two date columns as an input. \n",
    "        It calculates the days between the given timestamps\n",
    "        '''\n",
    "        FMT = '%Y-%m-%d'\n",
    "        s1 = row.iloc[0]\n",
    "        s2 = row.iloc[1]\n",
    "        tdelta = datetime.strptime(s2, FMT) - datetime.strptime(s1, FMT)\n",
    "        return abs(tdelta.days)\n",
    "    \n",
    "    def get_sentiment(self,text):\n",
    "        '''\n",
    "        INPUT:\n",
    "        text - python string containing text\n",
    "        \n",
    "        OUTPUT:\n",
    "        series - pandas pd.Series containing two indexes: text polarity as float and list of strong words as list\n",
    "        \n",
    "        The function uses spacy for sentiment calculation, it returns the polarity between -1 to 1\n",
    "        and a list of positive or negative words used in the sentence\n",
    "        '''\n",
    "        doc = self.nlp(text)\n",
    "        polarity = doc._.sentiment.polarity\n",
    "        subjectivity = doc._.sentiment.subjectivity\n",
    "        assessments = doc._.sentiment.assessments\n",
    "        \n",
    "        words = []\n",
    "        for assessment in assessments:\n",
    "            if (polarity < 0) & (assessment[1] < 0):\n",
    "                words.extend(assessment[0])\n",
    "            elif (polarity > 0) & (assessment[1] > 0):\n",
    "                words.extend(assessment[0])\n",
    "                \n",
    "        return pd.Series([polarity, words])\n",
    "\n",
    "operation = operations()\n",
    "boston = city('boston')\n",
    "\n",
    "# Removing comma and currency sign from column price\n",
    "boston.listings.price = boston.listings.price.str.replace(r'[$,]','',regex=True).astype('float') # Removes special characters\n",
    "\n",
    "# Removing outliers from dataframe based on price against every room_type\n",
    "boston.listings = operation.remove_outliers(boston.listings,'price')\n",
    "\n",
    "# Removing comma and currency sign from column price\n",
    "boston.calendar.price = boston.calendar.price.str.replace(r'[$,]','',regex=True).astype('float') # Removes special characters\n",
    "\n",
    "# Converting date to pandas format\n",
    "boston.calendar.date = pd.to_datetime(boston.calendar.date)\n"
   ]
  },
  {
   "cell_type": "markdown",
   "metadata": {},
   "source": [
    "### Question: Average number of listings throughout the year"
   ]
  },
  {
   "cell_type": "code",
   "execution_count": 3,
   "metadata": {},
   "outputs": [
    {
     "name": "stdout",
     "output_type": "stream",
     "text": [
      "Figure shows the average price of listings throughout the year\n"
     ]
    },
    {
     "data": {
      "image/png": "[encoded data removed]",
      "text/plain": [
       "<Figure size 432x288 with 1 Axes>"
      ]
     },
     "metadata": {
      "needs_background": "light"
     },
     "output_type": "display_data"
    }
   ],
   "source": [
    "t = boston.calendar.groupby(pd.Grouper(key=\"date\",freq=\"1W\"))['price'].mean()[:-1].plot()\n",
    "print('Figure shows the average price of listings throughout the year')"
   ]
  },
  {
   "cell_type": "markdown",
   "metadata": {},
   "source": [
    "### Question: Correlation existence between the average number of listings and price throughout the year"
   ]
  },
  {
   "cell_type": "code",
   "execution_count": 4,
   "metadata": {},
   "outputs": [],
   "source": [
    "stats_calendar = boston.calendar.groupby(pd.Grouper(key=\"date\",freq=\"1W\"))['price'].agg({'price':'mean',\n",
    "                                                                                         'listing_id':'nunique'})\n",
    "stats_calendar.reset_index(inplace=True)\n",
    "stats_calendar.rename(columns={'price':'average_price','listing_id':'total_listings'},inplace=True)\n",
    "stats_calendar = operation.normalize(stats_calendar,['average_price','total_listings'])\n",
    "stats_calendar = stats_calendar[ stats_calendar.total_listings>0]"
   ]
  },
  {
   "cell_type": "code",
   "execution_count": 5,
   "metadata": {},
   "outputs": [
    {
     "name": "stdout",
     "output_type": "stream",
     "text": [
      "Figure shows the correlation between the number of listings and average price\n"
     ]
    },
    {
     "data": {
      "image/png": "[encoded data removed]",
      "text/plain": [
       "<Figure size 432x288 with 1 Axes>"
      ]
     },
     "metadata": {
      "needs_background": "light"
     },
     "output_type": "display_data"
    }
   ],
   "source": [
    "g = sns.scatterplot(data=stats_calendar, x=\"total_listings\", y=\"average_price\")\n",
    "print('Figure shows the correlation between the number of listings and average price')"
   ]
  },
  {
   "cell_type": "code",
   "execution_count": 6,
   "metadata": {},
   "outputs": [
    {
     "data": {
      "text/html": [
       "<div>\n",
       "<style scoped>\n",
       "    .dataframe tbody tr th:only-of-type {\n",
       "        vertical-align: middle;\n",
       "    }\n",
       "\n",
       "    .dataframe tbody tr th {\n",
       "        vertical-align: top;\n",
       "    }\n",
       "\n",
       "    .dataframe thead th {\n",
       "        text-align: right;\n",
       "    }\n",
       "</style>\n",
       "<table border=\"1\" class=\"dataframe\">\n",
       "  <thead>\n",
       "    <tr style=\"text-align: right;\">\n",
       "      <th></th>\n",
       "      <th>neighbourhood_cleansed</th>\n",
       "      <th>room_type</th>\n",
       "      <th>mean</th>\n",
       "      <th>std</th>\n",
       "      <th>count</th>\n",
       "    </tr>\n",
       "  </thead>\n",
       "  <tbody>\n",
       "    <tr>\n",
       "      <td>0</td>\n",
       "      <td>Allston</td>\n",
       "      <td>Entire home/apt</td>\n",
       "      <td>167.246154</td>\n",
       "      <td>165.415200</td>\n",
       "      <td>65</td>\n",
       "    </tr>\n",
       "    <tr>\n",
       "      <td>1</td>\n",
       "      <td>Allston</td>\n",
       "      <td>Private room</td>\n",
       "      <td>66.741176</td>\n",
       "      <td>23.424221</td>\n",
       "      <td>85</td>\n",
       "    </tr>\n",
       "    <tr>\n",
       "      <td>2</td>\n",
       "      <td>Allston</td>\n",
       "      <td>Shared room</td>\n",
       "      <td>30.000000</td>\n",
       "      <td>NaN</td>\n",
       "      <td>1</td>\n",
       "    </tr>\n",
       "    <tr>\n",
       "      <td>3</td>\n",
       "      <td>Back Bay</td>\n",
       "      <td>Entire home/apt</td>\n",
       "      <td>175.098837</td>\n",
       "      <td>147.813129</td>\n",
       "      <td>172</td>\n",
       "    </tr>\n",
       "    <tr>\n",
       "      <td>4</td>\n",
       "      <td>Back Bay</td>\n",
       "      <td>Hotel room</td>\n",
       "      <td>143.333333</td>\n",
       "      <td>13.291601</td>\n",
       "      <td>6</td>\n",
       "    </tr>\n",
       "  </tbody>\n",
       "</table>\n",
       "</div>"
      ],
      "text/plain": [
       "  neighbourhood_cleansed        room_type        mean         std  count\n",
       "0                Allston  Entire home/apt  167.246154  165.415200     65\n",
       "1                Allston     Private room   66.741176   23.424221     85\n",
       "2                Allston      Shared room   30.000000         NaN      1\n",
       "3               Back Bay  Entire home/apt  175.098837  147.813129    172\n",
       "4               Back Bay       Hotel room  143.333333   13.291601      6"
      ]
     },
     "execution_count": 6,
     "metadata": {},
     "output_type": "execute_result"
    }
   ],
   "source": [
    "stats = boston.listings.groupby(['neighbourhood_cleansed','room_type'])['price'].agg(['mean','std','count'])\n",
    "stats.reset_index(inplace=True)\n",
    "stats.head(5)"
   ]
  },
  {
   "cell_type": "markdown",
   "metadata": {},
   "source": [
    "### Questtion: Average listing price in neighbourhoods per room type"
   ]
  },
  {
   "cell_type": "code",
   "execution_count": 7,
   "metadata": {},
   "outputs": [
    {
     "data": {
      "image/png": "[encoded data removed]",
      "text/plain": [
       "<Figure size 980.5x432 with 1 Axes>"
      ]
     },
     "metadata": {
      "needs_background": "light"
     },
     "output_type": "display_data"
    }
   ],
   "source": [
    "# Draw a nested barplot\n",
    "g = sns.catplot(data=stats, kind=\"bar\",\n",
    "                x=\"neighbourhood_cleansed\", y=\"mean\", hue=\"room_type\", \n",
    "                ci=\"sd\", palette=\"dark\", alpha=.6, height=6,aspect=2)\n",
    "g = g.despine(left=True)\n",
    "g = g.set_axis_labels(\"Neighbourhood\", \"Price\")\n",
    "g = g.set_xticklabels(rotation=90)"
   ]
  },
  {
   "cell_type": "markdown",
   "metadata": {},
   "source": [
    "### Question: Standard deviation among listing price of room types across neighbourhoods"
   ]
  },
  {
   "cell_type": "code",
   "execution_count": 8,
   "metadata": {},
   "outputs": [
    {
     "data": {
      "image/png": "[encoded data removed]",
      "text/plain": [
       "<Figure size 980.5x432 with 1 Axes>"
      ]
     },
     "metadata": {
      "needs_background": "light"
     },
     "output_type": "display_data"
    }
   ],
   "source": [
    "# Draw a nested barplot\n",
    "g = sns.catplot(data=stats, kind=\"bar\",\n",
    "                x=\"neighbourhood_cleansed\", y=\"std\", hue=\"room_type\", \n",
    "                ci=\"sd\", palette=\"dark\", alpha=.6, height=6,aspect=2)\n",
    "g = g.despine(left=True)\n",
    "g = g.set_axis_labels(\"Neighbourhood\", \"Price\")\n",
    "g = g.set_xticklabels(rotation=90)"
   ]
  },
  {
   "cell_type": "markdown",
   "metadata": {},
   "source": [
    "# Data Preparation"
   ]
  },
  {
   "cell_type": "markdown",
   "metadata": {},
   "source": [
    "### Feature selection and interpolation"
   ]
  },
  {
   "cell_type": "code",
   "execution_count": 9,
   "metadata": {},
   "outputs": [],
   "source": [
    "cols = ['host_since','last_scraped','host_verifications','calculated_host_listings_count',\n",
    "        'bedrooms','accommodates','beds','minimum_nights','maximum_nights',\n",
    "        'neighbourhood_cleansed','room_type',\n",
    "        'number_of_reviews','reviews_per_month','review_scores_rating',\n",
    "        'price',\n",
    "       'host_response_rate','host_acceptance_rate']\n",
    "\n",
    "dataset = boston.listings.copy()[cols]\n",
    "\n",
    "# Filling empty values with the mean\n",
    "dataset = dataset.fillna(dataset.mean())"
   ]
  },
  {
   "cell_type": "markdown",
   "metadata": {},
   "source": [
    "### Feature manipulation deduction and encoding"
   ]
  },
  {
   "cell_type": "code",
   "execution_count": 10,
   "metadata": {
    "scrolled": false
   },
   "outputs": [
    {
     "name": "stdout",
     "output_type": "stream",
     "text": [
      "host_verifications column contains 18 unique features\n",
      "host_verifications features parsed and added\n"
     ]
    }
   ],
   "source": [
    "# Converting bedrooms type from float to int\n",
    "dataset.bedrooms = dataset.bedrooms.astype('int')\n",
    "\n",
    "# Remove characters from numerical features for casting as numerical\n",
    "dataset.host_response_rate = dataset.host_response_rate.str.replace('%','').astype('float')\n",
    "dataset.host_acceptance_rate = dataset.host_acceptance_rate.str.replace('%','').astype('float')\n",
    "\n",
    "# Adding a feature to depict ad posters presence on platform in days since the ad\n",
    "dataset['host_since_days'] = dataset[['host_since','last_scraped']].apply(operation.calculate_days,axis=1)\n",
    "dataset.drop(columns=['host_since','last_scraped'],inplace=True)\n",
    "\n",
    "\n",
    "def get_unique_features(df, column):\n",
    "    '''\n",
    "    INPUT:\n",
    "    df - pandas pd.DataFrame containg the column, the column must contain a list for every record. \n",
    "         For reference look at the column amenities and host_verifications\n",
    "    columns - python string containing a column name\n",
    "    \n",
    "    OUTPUT:\n",
    "    unique_features - python list containing all unique occurrences present in the specified column\n",
    "    \n",
    "    The function returns the unique values present in a dataframe column that have list of values for each record\n",
    "    '''\n",
    "    unique_list = df[column].unique().tolist()\n",
    "    unique_features = list()\n",
    "    for i in unique_list:\n",
    "        unique_features.extend(eval(i))\n",
    "        unique_features = list(set(unique_features))\n",
    "    print('{} column contains {} unique features'.format(column,len(unique_features)))\n",
    "    print('{} features parsed and added'.format(column))\n",
    "    return unique_features\n",
    "\n",
    "def get_list_as_features(lst):\n",
    "    '''\n",
    "    INPUT:\n",
    "    lst - takes a string list as an input, for example: '['hello','world']'\n",
    "    \n",
    "    OUTPUT:\n",
    "    series - pandas pd.Series containing the list as features\n",
    "    \n",
    "    The function returns the features in a pandas.Series. \n",
    "    The function must be run after the function 'get_unique_features'.\n",
    "    It uses the 'unique_features' returned from the 'get_unique_features' function.\n",
    "    '''\n",
    "    lst = eval(lst)\n",
    "    series = pd.Series( index=unique_features,data=0 )\n",
    "    series[lst] = 1\n",
    "    return series\n",
    "\n",
    "# Parsing the column 'host_verifications' into features (similar steps can be performed with 'amenities')\n",
    "unique_features = get_unique_features(dataset, 'host_verifications')\n",
    "dataset[unique_features] = dataset.host_verifications.apply(get_list_as_features)\n",
    "dataset.drop(columns=['host_verifications'],inplace=True)"
   ]
  },
  {
   "cell_type": "markdown",
   "metadata": {},
   "source": [
    "### Encoding Categorical Features"
   ]
  },
  {
   "cell_type": "code",
   "execution_count": 11,
   "metadata": {},
   "outputs": [
    {
     "name": "stdout",
     "output_type": "stream",
     "text": [
      "(3092, 58)\n"
     ]
    }
   ],
   "source": [
    "# Getting encodings for categorical variables\n",
    "cat_cols = dataset.columns.unique()[dataset.dtypes == 'object'].tolist()\n",
    "num_cols = dataset.columns.unique()[dataset.dtypes != 'object'].tolist()\n",
    "\n",
    "\n",
    "encoded = pd.get_dummies(dataset[cat_cols],drop_first=True).astype('int')\n",
    "dataset = pd.concat([dataset[num_cols],encoded],axis=1)\n",
    "\n",
    "# Final data shape\n",
    "print(dataset.shape)"
   ]
  },
  {
   "cell_type": "markdown",
   "metadata": {},
   "source": [
    "# Data Modeling"
   ]
  },
  {
   "cell_type": "markdown",
   "metadata": {},
   "source": [
    "### Model data split, training and validation"
   ]
  },
  {
   "cell_type": "code",
   "execution_count": 12,
   "metadata": {},
   "outputs": [],
   "source": [
    "from sklearn.model_selection import train_test_split\n",
    "\n",
    "X = dataset.iloc[:,dataset.columns != 'price']\n",
    "y = dataset['price']\n",
    "\n",
    "# Split data into training and test data, and fit a linear model\n",
    "X_train, X_test, y_train, y_test = train_test_split(X, y , test_size=.30, random_state=42)"
   ]
  },
  {
   "cell_type": "code",
   "execution_count": 13,
   "metadata": {},
   "outputs": [
    {
     "name": "stdout",
     "output_type": "stream",
     "text": [
      "\n",
      "Training MSE: 2904.0726\n",
      "Validation MSE: 8166.4517\n",
      "\n",
      "Training r2: 0.8304\n",
      "Validation r2: 0.5349\n"
     ]
    }
   ],
   "source": [
    "import xgboost as xgb\n",
    "from sklearn.metrics import r2_score, mean_squared_error\n",
    "\n",
    "# Create instace\n",
    "xgb_reg = xgb.XGBRegressor(learning_rate=0.07,n_estimators=100,\n",
    "                           gamma=5,colsample_bytree=0.3,subsample=0.5)\n",
    "\n",
    "# Fit the model on training data\n",
    "xgb_reg.fit(X_train, y_train)\n",
    "\n",
    "# Predict\n",
    "training_preds_xgb_reg = xgb_reg.predict(X_train)\n",
    "\n",
    "# Validate\n",
    "val_preds_xgb_reg = xgb_reg.predict(X_test)\n",
    "\n",
    "print(\"\\nTraining MSE:\", round(mean_squared_error(y_train, training_preds_xgb_reg),4))\n",
    "print(\"Validation MSE:\", round(mean_squared_error(y_test, val_preds_xgb_reg),4))\n",
    "print(\"\\nTraining r2:\", round(r2_score(y_train, training_preds_xgb_reg),4))\n",
    "print(\"Validation r2:\", round(r2_score(y_test, val_preds_xgb_reg),4))"
   ]
  },
  {
   "cell_type": "markdown",
   "metadata": {},
   "source": [
    "## Evaluation"
   ]
  },
  {
   "cell_type": "markdown",
   "metadata": {},
   "source": [
    "#### Training set performance visualization"
   ]
  },
  {
   "cell_type": "code",
   "execution_count": 14,
   "metadata": {},
   "outputs": [
    {
     "data": {
      "image/png": "[encoded data removed]",
      "text/plain": [
       "<Figure size 432x288 with 1 Axes>"
      ]
     },
     "metadata": {
      "needs_background": "light"
     },
     "output_type": "display_data"
    }
   ],
   "source": [
    "p = sns.lineplot(x=range(len(y_train)),y=y_train) # Blue\n",
    "p = sns.lineplot(x=range(len(training_preds_xgb_reg)),y=training_preds_xgb_reg) # Orange"
   ]
  },
  {
   "cell_type": "markdown",
   "metadata": {},
   "source": [
    "#### Validation set performance visualization"
   ]
  },
  {
   "cell_type": "code",
   "execution_count": 15,
   "metadata": {},
   "outputs": [
    {
     "data": {
      "image/png": "[encoded data removed]",
      "text/plain": [
       "<Figure size 432x288 with 1 Axes>"
      ]
     },
     "metadata": {
      "needs_background": "light"
     },
     "output_type": "display_data"
    }
   ],
   "source": [
    "p = sns.lineplot(x=range(len(y_test)),y=y_test) # Blue\n",
    "p = sns.lineplot(x=range(len(val_preds_xgb_reg)),y=val_preds_xgb_reg) # Orange"
   ]
  },
  {
   "cell_type": "markdown",
   "metadata": {},
   "source": [
    "### Feature importance"
   ]
  },
  {
   "cell_type": "code",
   "execution_count": 16,
   "metadata": {
    "scrolled": false
   },
   "outputs": [
    {
     "data": {
      "text/html": [
       "<div>\n",
       "<style scoped>\n",
       "    .dataframe tbody tr th:only-of-type {\n",
       "        vertical-align: middle;\n",
       "    }\n",
       "\n",
       "    .dataframe tbody tr th {\n",
       "        vertical-align: top;\n",
       "    }\n",
       "\n",
       "    .dataframe thead th {\n",
       "        text-align: right;\n",
       "    }\n",
       "</style>\n",
       "<table border=\"1\" class=\"dataframe\">\n",
       "  <thead>\n",
       "    <tr style=\"text-align: right;\">\n",
       "      <th></th>\n",
       "      <th>features</th>\n",
       "      <th>importance</th>\n",
       "    </tr>\n",
       "  </thead>\n",
       "  <tbody>\n",
       "    <tr>\n",
       "      <td>0</td>\n",
       "      <td>room_type_Private room</td>\n",
       "      <td>0.140501</td>\n",
       "    </tr>\n",
       "    <tr>\n",
       "      <td>1</td>\n",
       "      <td>bedrooms</td>\n",
       "      <td>0.067701</td>\n",
       "    </tr>\n",
       "    <tr>\n",
       "      <td>2</td>\n",
       "      <td>accommodates</td>\n",
       "      <td>0.059843</td>\n",
       "    </tr>\n",
       "    <tr>\n",
       "      <td>3</td>\n",
       "      <td>beds</td>\n",
       "      <td>0.044354</td>\n",
       "    </tr>\n",
       "    <tr>\n",
       "      <td>4</td>\n",
       "      <td>neighbourhood_cleansed_Charlestown</td>\n",
       "      <td>0.033762</td>\n",
       "    </tr>\n",
       "    <tr>\n",
       "      <td>5</td>\n",
       "      <td>neighbourhood_cleansed_Fenway</td>\n",
       "      <td>0.032942</td>\n",
       "    </tr>\n",
       "    <tr>\n",
       "      <td>6</td>\n",
       "      <td>neighbourhood_cleansed_West End</td>\n",
       "      <td>0.027038</td>\n",
       "    </tr>\n",
       "    <tr>\n",
       "      <td>7</td>\n",
       "      <td>neighbourhood_cleansed_West Roxbury</td>\n",
       "      <td>0.025756</td>\n",
       "    </tr>\n",
       "    <tr>\n",
       "      <td>8</td>\n",
       "      <td>neighbourhood_cleansed_Back Bay</td>\n",
       "      <td>0.025512</td>\n",
       "    </tr>\n",
       "    <tr>\n",
       "      <td>9</td>\n",
       "      <td>jumio</td>\n",
       "      <td>0.024916</td>\n",
       "    </tr>\n",
       "    <tr>\n",
       "      <td>10</td>\n",
       "      <td>host_acceptance_rate</td>\n",
       "      <td>0.023882</td>\n",
       "    </tr>\n",
       "    <tr>\n",
       "      <td>11</td>\n",
       "      <td>neighbourhood_cleansed_Chinatown</td>\n",
       "      <td>0.023714</td>\n",
       "    </tr>\n",
       "    <tr>\n",
       "      <td>12</td>\n",
       "      <td>reviews_per_month</td>\n",
       "      <td>0.023341</td>\n",
       "    </tr>\n",
       "    <tr>\n",
       "      <td>13</td>\n",
       "      <td>government_id</td>\n",
       "      <td>0.021927</td>\n",
       "    </tr>\n",
       "    <tr>\n",
       "      <td>14</td>\n",
       "      <td>neighbourhood_cleansed_South Boston</td>\n",
       "      <td>0.020557</td>\n",
       "    </tr>\n",
       "    <tr>\n",
       "      <td>15</td>\n",
       "      <td>neighbourhood_cleansed_South End</td>\n",
       "      <td>0.019439</td>\n",
       "    </tr>\n",
       "    <tr>\n",
       "      <td>16</td>\n",
       "      <td>calculated_host_listings_count</td>\n",
       "      <td>0.019358</td>\n",
       "    </tr>\n",
       "    <tr>\n",
       "      <td>17</td>\n",
       "      <td>neighbourhood_cleansed_Dorchester</td>\n",
       "      <td>0.016567</td>\n",
       "    </tr>\n",
       "    <tr>\n",
       "      <td>18</td>\n",
       "      <td>host_since_days</td>\n",
       "      <td>0.015711</td>\n",
       "    </tr>\n",
       "    <tr>\n",
       "      <td>19</td>\n",
       "      <td>minimum_nights</td>\n",
       "      <td>0.015673</td>\n",
       "    </tr>\n",
       "    <tr>\n",
       "      <td>20</td>\n",
       "      <td>work_email</td>\n",
       "      <td>0.015325</td>\n",
       "    </tr>\n",
       "    <tr>\n",
       "      <td>21</td>\n",
       "      <td>review_scores_rating</td>\n",
       "      <td>0.015150</td>\n",
       "    </tr>\n",
       "    <tr>\n",
       "      <td>22</td>\n",
       "      <td>neighbourhood_cleansed_Jamaica Plain</td>\n",
       "      <td>0.014895</td>\n",
       "    </tr>\n",
       "    <tr>\n",
       "      <td>23</td>\n",
       "      <td>kba</td>\n",
       "      <td>0.014814</td>\n",
       "    </tr>\n",
       "    <tr>\n",
       "      <td>24</td>\n",
       "      <td>host_response_rate</td>\n",
       "      <td>0.014701</td>\n",
       "    </tr>\n",
       "    <tr>\n",
       "      <td>25</td>\n",
       "      <td>neighbourhood_cleansed_North End</td>\n",
       "      <td>0.014585</td>\n",
       "    </tr>\n",
       "    <tr>\n",
       "      <td>26</td>\n",
       "      <td>number_of_reviews</td>\n",
       "      <td>0.013162</td>\n",
       "    </tr>\n",
       "    <tr>\n",
       "      <td>27</td>\n",
       "      <td>neighbourhood_cleansed_East Boston</td>\n",
       "      <td>0.013132</td>\n",
       "    </tr>\n",
       "    <tr>\n",
       "      <td>28</td>\n",
       "      <td>selfie</td>\n",
       "      <td>0.012413</td>\n",
       "    </tr>\n",
       "    <tr>\n",
       "      <td>29</td>\n",
       "      <td>neighbourhood_cleansed_Roslindale</td>\n",
       "      <td>0.011751</td>\n",
       "    </tr>\n",
       "    <tr>\n",
       "      <td>30</td>\n",
       "      <td>neighbourhood_cleansed_Mission Hill</td>\n",
       "      <td>0.011462</td>\n",
       "    </tr>\n",
       "    <tr>\n",
       "      <td>31</td>\n",
       "      <td>room_type_Hotel room</td>\n",
       "      <td>0.011281</td>\n",
       "    </tr>\n",
       "    <tr>\n",
       "      <td>32</td>\n",
       "      <td>neighbourhood_cleansed_Downtown</td>\n",
       "      <td>0.011171</td>\n",
       "    </tr>\n",
       "    <tr>\n",
       "      <td>33</td>\n",
       "      <td>reviews</td>\n",
       "      <td>0.010706</td>\n",
       "    </tr>\n",
       "    <tr>\n",
       "      <td>34</td>\n",
       "      <td>maximum_nights</td>\n",
       "      <td>0.010548</td>\n",
       "    </tr>\n",
       "    <tr>\n",
       "      <td>35</td>\n",
       "      <td>neighbourhood_cleansed_South Boston Waterfront</td>\n",
       "      <td>0.010355</td>\n",
       "    </tr>\n",
       "    <tr>\n",
       "      <td>36</td>\n",
       "      <td>neighbourhood_cleansed_Brighton</td>\n",
       "      <td>0.009794</td>\n",
       "    </tr>\n",
       "    <tr>\n",
       "      <td>37</td>\n",
       "      <td>neighbourhood_cleansed_Roxbury</td>\n",
       "      <td>0.009326</td>\n",
       "    </tr>\n",
       "    <tr>\n",
       "      <td>38</td>\n",
       "      <td>facebook</td>\n",
       "      <td>0.009069</td>\n",
       "    </tr>\n",
       "    <tr>\n",
       "      <td>39</td>\n",
       "      <td>neighbourhood_cleansed_Hyde Park</td>\n",
       "      <td>0.008913</td>\n",
       "    </tr>\n",
       "    <tr>\n",
       "      <td>40</td>\n",
       "      <td>manual_offline</td>\n",
       "      <td>0.008448</td>\n",
       "    </tr>\n",
       "    <tr>\n",
       "      <td>41</td>\n",
       "      <td>google</td>\n",
       "      <td>0.008330</td>\n",
       "    </tr>\n",
       "    <tr>\n",
       "      <td>42</td>\n",
       "      <td>identity_manual</td>\n",
       "      <td>0.007596</td>\n",
       "    </tr>\n",
       "    <tr>\n",
       "      <td>43</td>\n",
       "      <td>email</td>\n",
       "      <td>0.006994</td>\n",
       "    </tr>\n",
       "    <tr>\n",
       "      <td>44</td>\n",
       "      <td>offline_government_id</td>\n",
       "      <td>0.006763</td>\n",
       "    </tr>\n",
       "    <tr>\n",
       "      <td>45</td>\n",
       "      <td>room_type_Shared room</td>\n",
       "      <td>0.006543</td>\n",
       "    </tr>\n",
       "    <tr>\n",
       "      <td>46</td>\n",
       "      <td>sesame_offline</td>\n",
       "      <td>0.006430</td>\n",
       "    </tr>\n",
       "    <tr>\n",
       "      <td>47</td>\n",
       "      <td>neighbourhood_cleansed_Longwood Medical Area</td>\n",
       "      <td>0.006410</td>\n",
       "    </tr>\n",
       "    <tr>\n",
       "      <td>48</td>\n",
       "      <td>neighbourhood_cleansed_Mattapan</td>\n",
       "      <td>0.006393</td>\n",
       "    </tr>\n",
       "    <tr>\n",
       "      <td>49</td>\n",
       "      <td>neighbourhood_cleansed_Beacon Hill</td>\n",
       "      <td>0.006320</td>\n",
       "    </tr>\n",
       "    <tr>\n",
       "      <td>50</td>\n",
       "      <td>phone</td>\n",
       "      <td>0.001846</td>\n",
       "    </tr>\n",
       "    <tr>\n",
       "      <td>51</td>\n",
       "      <td>manual_online</td>\n",
       "      <td>0.001800</td>\n",
       "    </tr>\n",
       "    <tr>\n",
       "      <td>52</td>\n",
       "      <td>neighbourhood_cleansed_Bay Village</td>\n",
       "      <td>0.001080</td>\n",
       "    </tr>\n",
       "    <tr>\n",
       "      <td>53</td>\n",
       "      <td>sesame</td>\n",
       "      <td>0.000000</td>\n",
       "    </tr>\n",
       "    <tr>\n",
       "      <td>54</td>\n",
       "      <td>neighbourhood_cleansed_Leather District</td>\n",
       "      <td>0.000000</td>\n",
       "    </tr>\n",
       "    <tr>\n",
       "      <td>55</td>\n",
       "      <td>weibo</td>\n",
       "      <td>0.000000</td>\n",
       "    </tr>\n",
       "    <tr>\n",
       "      <td>56</td>\n",
       "      <td>sent_id</td>\n",
       "      <td>0.000000</td>\n",
       "    </tr>\n",
       "  </tbody>\n",
       "</table>\n",
       "</div>"
      ],
      "text/plain": [
       "                                          features  importance\n",
       "0                           room_type_Private room    0.140501\n",
       "1                                         bedrooms    0.067701\n",
       "2                                     accommodates    0.059843\n",
       "3                                             beds    0.044354\n",
       "4               neighbourhood_cleansed_Charlestown    0.033762\n",
       "5                    neighbourhood_cleansed_Fenway    0.032942\n",
       "6                  neighbourhood_cleansed_West End    0.027038\n",
       "7              neighbourhood_cleansed_West Roxbury    0.025756\n",
       "8                  neighbourhood_cleansed_Back Bay    0.025512\n",
       "9                                            jumio    0.024916\n",
       "10                            host_acceptance_rate    0.023882\n",
       "11                neighbourhood_cleansed_Chinatown    0.023714\n",
       "12                               reviews_per_month    0.023341\n",
       "13                                   government_id    0.021927\n",
       "14             neighbourhood_cleansed_South Boston    0.020557\n",
       "15                neighbourhood_cleansed_South End    0.019439\n",
       "16                  calculated_host_listings_count    0.019358\n",
       "17               neighbourhood_cleansed_Dorchester    0.016567\n",
       "18                                 host_since_days    0.015711\n",
       "19                                  minimum_nights    0.015673\n",
       "20                                      work_email    0.015325\n",
       "21                            review_scores_rating    0.015150\n",
       "22            neighbourhood_cleansed_Jamaica Plain    0.014895\n",
       "23                                             kba    0.014814\n",
       "24                              host_response_rate    0.014701\n",
       "25                neighbourhood_cleansed_North End    0.014585\n",
       "26                               number_of_reviews    0.013162\n",
       "27              neighbourhood_cleansed_East Boston    0.013132\n",
       "28                                          selfie    0.012413\n",
       "29               neighbourhood_cleansed_Roslindale    0.011751\n",
       "30             neighbourhood_cleansed_Mission Hill    0.011462\n",
       "31                            room_type_Hotel room    0.011281\n",
       "32                 neighbourhood_cleansed_Downtown    0.011171\n",
       "33                                         reviews    0.010706\n",
       "34                                  maximum_nights    0.010548\n",
       "35  neighbourhood_cleansed_South Boston Waterfront    0.010355\n",
       "36                 neighbourhood_cleansed_Brighton    0.009794\n",
       "37                  neighbourhood_cleansed_Roxbury    0.009326\n",
       "38                                        facebook    0.009069\n",
       "39                neighbourhood_cleansed_Hyde Park    0.008913\n",
       "40                                  manual_offline    0.008448\n",
       "41                                          google    0.008330\n",
       "42                                 identity_manual    0.007596\n",
       "43                                           email    0.006994\n",
       "44                           offline_government_id    0.006763\n",
       "45                           room_type_Shared room    0.006543\n",
       "46                                  sesame_offline    0.006430\n",
       "47    neighbourhood_cleansed_Longwood Medical Area    0.006410\n",
       "48                 neighbourhood_cleansed_Mattapan    0.006393\n",
       "49              neighbourhood_cleansed_Beacon Hill    0.006320\n",
       "50                                           phone    0.001846\n",
       "51                                   manual_online    0.001800\n",
       "52              neighbourhood_cleansed_Bay Village    0.001080\n",
       "53                                          sesame    0.000000\n",
       "54         neighbourhood_cleansed_Leather District    0.000000\n",
       "55                                           weibo    0.000000\n",
       "56                                         sent_id    0.000000"
      ]
     },
     "execution_count": 16,
     "metadata": {},
     "output_type": "execute_result"
    }
   ],
   "source": [
    "feature_importance = pd.DataFrame(data = {'features':X.columns,'importance':xgb_reg.feature_importances_})\n",
    "feature_importance = feature_importance.sort_values(by='importance',ascending=False).reset_index(drop=True)\n",
    "feature_importance"
   ]
  },
  {
   "cell_type": "markdown",
   "metadata": {},
   "source": [
    "# Future Model Improvements"
   ]
  },
  {
   "cell_type": "markdown",
   "metadata": {},
   "source": [
    "### Sentiment Analysis"
   ]
  },
  {
   "cell_type": "code",
   "execution_count": 17,
   "metadata": {},
   "outputs": [
    {
     "data": {
      "text/html": [
       "<div>\n",
       "<style scoped>\n",
       "    .dataframe tbody tr th:only-of-type {\n",
       "        vertical-align: middle;\n",
       "    }\n",
       "\n",
       "    .dataframe tbody tr th {\n",
       "        vertical-align: top;\n",
       "    }\n",
       "\n",
       "    .dataframe thead th {\n",
       "        text-align: right;\n",
       "    }\n",
       "</style>\n",
       "<table border=\"1\" class=\"dataframe\">\n",
       "  <thead>\n",
       "    <tr style=\"text-align: right;\">\n",
       "      <th></th>\n",
       "      <th>text</th>\n",
       "      <th>polarity</th>\n",
       "      <th>strong_words</th>\n",
       "    </tr>\n",
       "  </thead>\n",
       "  <tbody>\n",
       "    <tr>\n",
       "      <td>0</td>\n",
       "      <td>The apartment was as advertised and Frank was ...</td>\n",
       "      <td>0.300000</td>\n",
       "      <td>[incredibly]</td>\n",
       "    </tr>\n",
       "    <tr>\n",
       "      <td>1</td>\n",
       "      <td>It was a pleasure to stay at Frank's place. Th...</td>\n",
       "      <td>-0.150000</td>\n",
       "      <td>[base]</td>\n",
       "    </tr>\n",
       "    <tr>\n",
       "      <td>2</td>\n",
       "      <td>The apartment description is entirely faithful...</td>\n",
       "      <td>0.134375</td>\n",
       "      <td>[very, very, nice, very]</td>\n",
       "    </tr>\n",
       "    <tr>\n",
       "      <td>3</td>\n",
       "      <td>Thoroughly enjoyed my time at Frank's home. Ha...</td>\n",
       "      <td>0.387667</td>\n",
       "      <td>[enjoyed, very, clean, very, happy, great, fan...</td>\n",
       "    </tr>\n",
       "    <tr>\n",
       "      <td>4</td>\n",
       "      <td>Great value for the money! This location has e...</td>\n",
       "      <td>0.225000</td>\n",
       "      <td>[great, !, very, really, free, !, very, calm, ...</td>\n",
       "    </tr>\n",
       "    <tr>\n",
       "      <td>5</td>\n",
       "      <td>Frank was very accommodating throughout my sta...</td>\n",
       "      <td>0.281944</td>\n",
       "      <td>[very, easy, detailed, seamless, clear, clean, !]</td>\n",
       "    </tr>\n",
       "    <tr>\n",
       "      <td>6</td>\n",
       "      <td>Excellent! This was my second stay at the Jeff...</td>\n",
       "      <td>0.266667</td>\n",
       "      <td>[excellent, !, extraordinarily]</td>\n",
       "    </tr>\n",
       "    <tr>\n",
       "      <td>7</td>\n",
       "      <td>Frank was a wonderful and accommodating host. ...</td>\n",
       "      <td>0.433500</td>\n",
       "      <td>[wonderful, exactly, very, clean, smooth, easy...</td>\n",
       "    </tr>\n",
       "    <tr>\n",
       "      <td>8</td>\n",
       "      <td>Frank was great, the apartment has everything ...</td>\n",
       "      <td>0.790625</td>\n",
       "      <td>[great, lovely, !, !]</td>\n",
       "    </tr>\n",
       "    <tr>\n",
       "      <td>9</td>\n",
       "      <td>Very nice. Comfortable apartment. Good locatio...</td>\n",
       "      <td>0.665000</td>\n",
       "      <td>[very, nice, comfortable, good, very, nice]</td>\n",
       "    </tr>\n",
       "  </tbody>\n",
       "</table>\n",
       "</div>"
      ],
      "text/plain": [
       "                                                text  polarity  \\\n",
       "0  The apartment was as advertised and Frank was ...  0.300000   \n",
       "1  It was a pleasure to stay at Frank's place. Th... -0.150000   \n",
       "2  The apartment description is entirely faithful...  0.134375   \n",
       "3  Thoroughly enjoyed my time at Frank's home. Ha...  0.387667   \n",
       "4  Great value for the money! This location has e...  0.225000   \n",
       "5  Frank was very accommodating throughout my sta...  0.281944   \n",
       "6  Excellent! This was my second stay at the Jeff...  0.266667   \n",
       "7  Frank was a wonderful and accommodating host. ...  0.433500   \n",
       "8  Frank was great, the apartment has everything ...  0.790625   \n",
       "9  Very nice. Comfortable apartment. Good locatio...  0.665000   \n",
       "\n",
       "                                        strong_words  \n",
       "0                                       [incredibly]  \n",
       "1                                             [base]  \n",
       "2                           [very, very, nice, very]  \n",
       "3  [enjoyed, very, clean, very, happy, great, fan...  \n",
       "4  [great, !, very, really, free, !, very, calm, ...  \n",
       "5  [very, easy, detailed, seamless, clear, clean, !]  \n",
       "6                    [excellent, !, extraordinarily]  \n",
       "7  [wonderful, exactly, very, clean, smooth, easy...  \n",
       "8                              [great, lovely, !, !]  \n",
       "9        [very, nice, comfortable, good, very, nice]  "
      ]
     },
     "execution_count": 17,
     "metadata": {},
     "output_type": "execute_result"
    }
   ],
   "source": [
    "sentiments_df = pd.DataFrame(data={'text':boston.reviews.comments[:10]})\n",
    "sentiments_df[['polarity','strong_words']] = sentiments_df.text.apply(operation.get_sentiment)\n",
    "sentiments_df"
   ]
  },
  {
   "cell_type": "code",
   "execution_count": 18,
   "metadata": {},
   "outputs": [
    {
     "data": {
      "text/plain": [
       "0      -0.8\n",
       "1    [base]\n",
       "dtype: object"
      ]
     },
     "execution_count": 18,
     "metadata": {},
     "output_type": "execute_result"
    }
   ],
   "source": [
    "# Here you can see the Spacy making mistake classifying 'base' as a negative word\n",
    "operation.get_sentiment(\"base\")"
   ]
  },
  {
   "cell_type": "code",
   "execution_count": null,
   "metadata": {},
   "outputs": [],
   "source": []
  }
 ],
 "metadata": {
  "kernelspec": {
   "display_name": "Python 3",
   "language": "python",
   "name": "python3"
  },
  "language_info": {
   "codemirror_mode": {
    "name": "ipython",
    "version": 3
   },
   "file_extension": ".py",
   "mimetype": "text/x-python",
   "name": "python",
   "nbconvert_exporter": "python",
   "pygments_lexer": "ipython3",
   "version": "3.6.9"
  }
 },
 "nbformat": 4,
 "nbformat_minor": 2
}
